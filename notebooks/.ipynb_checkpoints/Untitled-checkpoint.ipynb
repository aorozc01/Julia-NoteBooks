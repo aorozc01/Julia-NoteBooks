{
 "cells": [
  {
   "cell_type": "code",
   "execution_count": 12,
   "metadata": {},
   "outputs": [
    {
     "name": "stderr",
     "output_type": "stream",
     "text": [
      "┌ Info: Precompiling Unitful [1986cc42-f94f-5a68-af5c-568840ba703d]\n",
      "└ @ Base loading.jl:1186\n"
     ]
    }
   ],
   "source": [
    "using QuantumOptics\n",
    "using PyPlot\n",
    "using Unitful"
   ]
  },
  {
   "cell_type": "code",
   "execution_count": 17,
   "metadata": {},
   "outputs": [
    {
     "data": {
      "text/plain": [
       "THz"
      ]
     },
     "execution_count": 17,
     "metadata": {},
     "output_type": "execute_result"
    }
   ],
   "source": [
    "# Constants\n",
    "h = 6.6e-34u\"J*s\"\n",
    "hbar = h/(2*π)\n",
    "kHz = Unitful.kHz\n",
    "THz = Unitful.THz"
   ]
  },
  {
   "cell_type": "code",
   "execution_count": 20,
   "metadata": {},
   "outputs": [
    {
     "data": {
      "text/plain": [
       "6.6e-34 THz J s"
      ]
     },
     "execution_count": 20,
     "metadata": {},
     "output_type": "execute_result"
    }
   ],
   "source": [
    "# scales\n",
    "freqscale = 1THz\n",
    "timescale = 1/freqscale \n",
    "energyscale = h/timescale "
   ]
  },
  {
   "cell_type": "code",
   "execution_count": 64,
   "metadata": {},
   "outputs": [
    {
     "data": {
      "text/plain": [
       "995-element Array{Float64,1}:\n",
       " 0.0                 \n",
       " 0.001               \n",
       " 0.002               \n",
       " 0.003               \n",
       " 0.004               \n",
       " 0.005               \n",
       " 0.006               \n",
       " 0.007               \n",
       " 0.008               \n",
       " 0.009000000000000001\n",
       " 0.01                \n",
       " 0.011               \n",
       " 0.012               \n",
       " ⋮                   \n",
       " 0.983               \n",
       " 0.984               \n",
       " 0.985               \n",
       " 0.986               \n",
       " 0.987               \n",
       " 0.988               \n",
       " 0.989               \n",
       " 0.99                \n",
       " 0.991               \n",
       " 0.992               \n",
       " 0.993               \n",
       " 0.994               "
      ]
     },
     "execution_count": 64,
     "metadata": {},
     "output_type": "execute_result"
    }
   ],
   "source": [
    "# Parameters\n",
    "Δ1 = 0.01\n",
    "Ω1 = 0.5\n",
    "Δ2 = 0.01\n",
    "Ω2 = 0.5\n",
    "Δ = (Δ1+Δ2)/2\n",
    "Ωᵣ = Ω1*Ω2/(4*Δ)\n",
    "tmax = Ωᵣ/(2*π)\n",
    "dt = 0.001\n",
    "tlist = [0:dt:tmax;]"
   ]
  },
  {
   "cell_type": "code",
   "execution_count": 65,
   "metadata": {},
   "outputs": [
    {
     "data": {
      "text/plain": [
       "SparseOperator(dim=3x3)\n",
       "  basis: NLevel(N=3)\n",
       "  [3, 3]  =  1.0+0.0im"
      ]
     },
     "execution_count": 65,
     "metadata": {},
     "output_type": "execute_result"
    }
   ],
   "source": [
    "# Basis and operators\n",
    "b = NLevelBasis(3)\n",
    "σ₁ = transition(b, 1, 2)\n",
    "σ₃ = transition(b, 3, 2)\n",
    "proj₂ = transition(b, 2, 2)\n",
    "proj₃ = σ₃*dagger(σ₃)"
   ]
  },
  {
   "cell_type": "code",
   "execution_count": 66,
   "metadata": {},
   "outputs": [
    {
     "data": {
      "text/plain": [
       "Ket(dim=3)\n",
       "  basis: NLevel(N=3)\n",
       " 1.0 + 0.0im\n",
       " 0.0 + 0.0im\n",
       " 0.0 + 0.0im"
      ]
     },
     "execution_count": 66,
     "metadata": {},
     "output_type": "execute_result"
    }
   ],
   "source": [
    "# Hamiltonian and jump operators\n",
    "H = Δ1*proj₂ + Δ2*proj₃ + Ωᵣ*(σ₁ + dagger(σ₁))\n",
    "\n",
    "# Initial state\n",
    "ψ₀ = nlevelstate(b, 1)"
   ]
  },
  {
   "cell_type": "code",
   "execution_count": 67,
   "metadata": {},
   "outputs": [],
   "source": [
    "t,ψₜ = timeevolution.schroedinger(tlist,ψ₀,H);"
   ]
  },
  {
   "cell_type": "code",
   "execution_count": 68,
   "metadata": {},
   "outputs": [
    {
     "data": {
      "text/plain": [
       "995-element Array{Float64,1}:\n",
       " 0.0                   \n",
       " 3.906199137624315e-5  \n",
       " 0.00015624186237162522\n",
       " 0.0003515213059273846 \n",
       " 0.0006248698094839972 \n",
       " 0.0009762446606161187 \n",
       " 0.001405590955727128  \n",
       " 0.0019128416096217684 \n",
       " 0.0024979173662672076 \n",
       " 0.0031607268107413794 \n",
       " 0.0039011663823674413 \n",
       " 0.004719120394483841  \n",
       " 0.0056144610831048766 \n",
       " ⋮                     \n",
       " 0.019315878084588362  \n",
       " 0.01763306799009239   \n",
       " 0.01602562666941806   \n",
       " 0.014493805236677771  \n",
       " 0.013037842998200348  \n",
       " 0.011657967417082376  \n",
       " 0.01035439407888533   \n",
       " 0.009127326658482081  \n",
       " 0.00797695688805586   \n",
       " 0.006903464526255135  \n",
       " 0.005907017328507629  \n",
       " 0.004987771018496865  "
      ]
     },
     "execution_count": 68,
     "metadata": {},
     "output_type": "execute_result"
    }
   ],
   "source": [
    "expproj₂ = real(expect(proj₂,ψₜ))"
   ]
  },
  {
   "cell_type": "code",
   "execution_count": 69,
   "metadata": {},
   "outputs": [
    {
     "data": {
      "image/png": "[encoded data removed]",
      "text/plain": [
       "Figure(PyObject <Figure size 640x480 with 1 Axes>)"
      ]
     },
     "metadata": {},
     "output_type": "display_data"
    },
    {
     "data": {
      "text/plain": [
       "1-element Array{PyCall.PyObject,1}:\n",
       " PyObject <matplotlib.lines.Line2D object at 0x00000000200EDBA8>"
      ]
     },
     "execution_count": 69,
     "metadata": {},
     "output_type": "execute_result"
    }
   ],
   "source": [
    "plot(t,expproj₂)"
   ]
  },
  {
   "cell_type": "code",
   "execution_count": null,
   "metadata": {},
   "outputs": [],
   "source": []
  },
  {
   "cell_type": "code",
   "execution_count": null,
   "metadata": {},
   "outputs": [],
   "source": []
  }
 ],
 "metadata": {
  "kernelspec": {
   "display_name": "Julia 1.1.0",
   "language": "julia",
   "name": "julia-1.1"
  },
  "language_info": {
   "file_extension": ".jl",
   "mimetype": "application/julia",
   "name": "julia",
   "version": "1.1.0"
  }
 },
 "nbformat": 4,
 "nbformat_minor": 2
}
